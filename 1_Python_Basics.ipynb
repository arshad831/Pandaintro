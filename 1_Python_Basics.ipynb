{
  "cells": [
    {
      "cell_type": "markdown",
      "metadata": {
        "id": "view-in-github",
        "colab_type": "text"
      },
      "source": [
        "<a href=\"https://colab.research.google.com/github/arshad831/Pandaintro/blob/main/1_Python_Basics.ipynb\" target=\"_parent\"><img src=\"https://colab.research.google.com/assets/colab-badge.svg\" alt=\"Open In Colab\"/></a>"
      ]
    },
    {
      "cell_type": "markdown",
      "metadata": {
        "id": "nQgCr0kKyyuh"
      },
      "source": [
        "Python\n",
        "--\n",
        "Python is a general-purpose interpreted, interactive, object-oriented, and high-level programming language. It was created by Guido van Rossum during 1985- 1990. \n",
        "\n",
        "Language is not named after a snake,\n",
        "but after a comedy show \"Flying Circus\" which Monty Python was a fan of.\n",
        "\n",
        "Why to Learn Python?\n",
        "Python is a high-level, interpreted, interactive and object-oriented scripting language. Python is designed to be highly readable. It uses English keywords frequently where as other languages use punctuation, and it has fewer syntactical constructions than other languages.\n",
        "\n",
        "Following are important characteristics of Python Programming −\n",
        "\n",
        "It supports functional and structured programming methods as well as OOP.\n",
        "\n",
        "It can be used as a scripting language or can be compiled to byte-code for building large applications.\n",
        "\n",
        "It provides very high-level dynamic data types and supports dynamic type checking.\n",
        "\n",
        "It supports automatic garbage collection.\n",
        "\n",
        "It can be easily integrated with C, C++, COM, ActiveX, CORBA, and Java."
      ]
    },
    {
      "cell_type": "markdown",
      "metadata": {
        "id": "fMUwoNJ6yyuu"
      },
      "source": [
        "__Guido van Rossum started coding for Python in Dec 1989.\n",
        "\n",
        "Latest Release is Version 3.8\n",
        "\n",
        "__Features:\n",
        "Simple\n",
        "Powerful\n",
        "General Purpose\n",
        "It is very readable\n",
        "\n",
        "Python is a High level Language\n",
        "\n",
        "__Python is an Interpreter.__"
      ]
    },
    {
      "cell_type": "markdown",
      "metadata": {
        "id": "C4LbpvjQyyuv"
      },
      "source": [
        "Applications of Python\n",
        "--\n",
        "Easy-to-learn − Python has few keywords, simple structure, and a clearly defined syntax. This allows the student to pick up the language quickly.\n",
        "\n",
        "Easy-to-read − Python code is more clearly defined and visible to the eyes.\n",
        "\n",
        "Easy-to-maintain − Python's source code is fairly easy-to-maintain.\n",
        "\n",
        "A broad standard library − Python's bulk of the library is very portable and cross-platform compatible on UNIX, Windows, and Macintosh.\n",
        "\n",
        "Interactive Mode − Python has support for an interactive mode which allows interactive testing and debugging of snippets of code.\n",
        "\n",
        "Portable − Python can run on a wide variety of hardware platforms and has the same interface on all platforms.\n",
        "\n",
        "Extendable − You can add low-level modules to the Python interpreter. These modules enable programmers to add to or customize their tools to be more efficient.\n",
        "\n",
        "Databases − Python provides interfaces to all major commercial databases.\n",
        "\n",
        "GUI Programming − Python supports GUI applications that can be created and ported to many system calls, libraries and windows systems, such as Windows MFC, Macintosh, and the X Window system of Unix.\n",
        "\n",
        "Scalable − Python provides a better structure and support for large programs than shell scripting."
      ]
    },
    {
      "cell_type": "markdown",
      "metadata": {
        "id": "x_-R_m16yyuv"
      },
      "source": [
        "Python Data Types\n",
        "--\n",
        "Variables can hold values of different data types. Python is a dynamically typed language hence we need not define the type of the variable while declaring it. The interpreter implicitly binds the value with its type.\n",
        "\n",
        "Python enables us to check the type of the variable used in the program. Python provides us the type() function which returns the type of the variable passed."
      ]
    },
    {
      "cell_type": "code",
      "execution_count": 1,
      "metadata": {
        "colab": {
          "base_uri": "https://localhost:8080/"
        },
        "id": "y4L2AnSvyyuw",
        "outputId": "b251e385-3fed-424b-d44c-a7fa7960c324"
      },
      "outputs": [
        {
          "output_type": "stream",
          "name": "stdout",
          "text": [
            "2\n",
            "<class 'int'>\n",
            "Hi Darshan\n",
            "<class 'str'>\n",
            "23.15\n",
            "<class 'float'>\n"
          ]
        }
      ],
      "source": [
        "# type your code here\n",
        "a = 2\n",
        "print(a)\n",
        "print( type(a) )\n",
        "b = \"Hi Darshan\"\n",
        "print(b)\n",
        "print( type(b) )\n",
        "c = 23.15\n",
        "print(c)\n",
        "print( type(c) )"
      ]
    },
    {
      "cell_type": "code",
      "execution_count": 2,
      "metadata": {
        "colab": {
          "base_uri": "https://localhost:8080/"
        },
        "id": "GxuSn9mdyyux",
        "outputId": "d362b6f1-f341-4793-e726-5895e0a1dd00"
      },
      "outputs": [
        {
          "output_type": "stream",
          "name": "stdout",
          "text": [
            "3\n"
          ]
        }
      ],
      "source": [
        "a=1\n",
        "b=2\n",
        "c=a+b\n",
        "print(c)"
      ]
    },
    {
      "cell_type": "code",
      "execution_count": 3,
      "metadata": {
        "colab": {
          "base_uri": "https://localhost:8080/"
        },
        "id": "afabZrqoyyux",
        "outputId": "5f7ad1ea-31ed-43f3-c9ac-a6d31228205d"
      },
      "outputs": [
        {
          "output_type": "stream",
          "name": "stdout",
          "text": [
            "My name is Arshad\n",
            "My name is Omkar\n",
            "c\n",
            "3\n"
          ]
        }
      ],
      "source": [
        "print(\"My name is Arshad\")\n",
        "print('My name is Omkar')\n",
        "print(\"c\")\n",
        "print(c)"
      ]
    },
    {
      "cell_type": "raw",
      "metadata": {
        "id": "EgAMhyhYyyux"
      },
      "source": [
        "For Python, \" or ' are the same."
      ]
    },
    {
      "cell_type": "code",
      "execution_count": 4,
      "metadata": {
        "scrolled": true,
        "colab": {
          "base_uri": "https://localhost:8080/"
        },
        "id": "QGxi12fOyyuy",
        "outputId": "28c05299-6215-44ab-ad1e-31d488fa1f1c"
      },
      "outputs": [
        {
          "output_type": "stream",
          "name": "stdout",
          "text": [
            "c= 40\n",
            "Addition of a= 10  and b= 30  is c= 40\n"
          ]
        }
      ],
      "source": [
        "a=10\n",
        "b=30\n",
        "c=a+b\n",
        "print(\"c=\",c)\n",
        "print(\"Addition of a=\",a,\" and b=\",b,\" is c=\",c)"
      ]
    },
    {
      "cell_type": "markdown",
      "metadata": {
        "id": "yhR27x8ayyuy"
      },
      "source": [
        "Standard data types\n",
        "--\n",
        "A variable can hold different types of values. For example, a person's name must be stored as a string whereas its id must be stored as an integer.\n",
        "\n",
        "Python provides various standard data types that define the storage method on each of them. The data types defined in Python are given below.\n",
        "\n",
        "> Numbers\n",
        "\n",
        "> String\n",
        "\n",
        "> List\n",
        "\n",
        "> Tuple\n",
        "\n",
        "> Dictionary"
      ]
    },
    {
      "cell_type": "markdown",
      "metadata": {
        "id": "HSDMfQLByyuy"
      },
      "source": [
        "Numbers\n",
        "--\n",
        "Number stores numeric values. Python creates Number objects when a number is assigned to a variable. For example;\n",
        "\n",
        "a = 3 , b = 5  #a and b are number objects  \n",
        "Python supports 4 types of numeric data.\n",
        "\n",
        "int (signed integers like 10, 2, 29, etc.)\n",
        "\n",
        "float (float is used to store floating point numbers like 1.9, 9.902, 15.2, etc.)\n",
        "\n",
        "complex (complex numbers like 2.14j, 2.0 + 2.3j, etc.)\n",
        "\n",
        "Python allows us to use a lower-case L to be used with long integers. However, we must always use an upper-case L to avoid confusion.\n",
        "\n",
        "A complex number contains an ordered pair, i.e., x + iy where x and y denote the real and imaginary parts respectively)."
      ]
    },
    {
      "cell_type": "code",
      "execution_count": null,
      "metadata": {
        "id": "b4y8nhisyyuy",
        "outputId": "63347f8c-b42c-49b0-ac44-6217f1f31532"
      },
      "outputs": [
        {
          "name": "stdout",
          "output_type": "stream",
          "text": [
            "5464151351351658964\n",
            "(-3+9j)\n"
          ]
        }
      ],
      "source": [
        "a = 5464151351351658964\n",
        "print(a)\n",
        "c1 = 2+3j\n",
        "c2 = 5-6j\n",
        "c3 = c1-c2\n",
        "print(c3)"
      ]
    },
    {
      "cell_type": "code",
      "execution_count": null,
      "metadata": {
        "id": "L3a1yV1Nyyuz",
        "outputId": "cf8eb659-18d3-412b-9213-26a2dfa1dfc2"
      },
      "outputs": [
        {
          "data": {
            "text/plain": [
              "str"
            ]
          },
          "execution_count": 6,
          "metadata": {},
          "output_type": "execute_result"
        }
      ],
      "source": [
        "type(\"Hello World\")"
      ]
    },
    {
      "cell_type": "code",
      "execution_count": null,
      "metadata": {
        "id": "t3PhY0_Zyyuz",
        "outputId": "a84e1955-3143-45a1-c448-17e6cb24f6f4"
      },
      "outputs": [
        {
          "data": {
            "text/plain": [
              "int"
            ]
          },
          "execution_count": 7,
          "metadata": {},
          "output_type": "execute_result"
        }
      ],
      "source": [
        "type(17)"
      ]
    },
    {
      "cell_type": "code",
      "execution_count": null,
      "metadata": {
        "id": "_s-FuV39yyuz",
        "outputId": "88a4d81f-d390-4840-f14f-b554e16ee8b2"
      },
      "outputs": [
        {
          "data": {
            "text/plain": [
              "float"
            ]
          },
          "execution_count": 8,
          "metadata": {},
          "output_type": "execute_result"
        }
      ],
      "source": [
        "type(3.2)"
      ]
    },
    {
      "cell_type": "code",
      "execution_count": null,
      "metadata": {
        "id": "srK27HqTyyuz",
        "outputId": "bdac3daf-1d4e-440c-f3b8-896ac403f7aa"
      },
      "outputs": [
        {
          "data": {
            "text/plain": [
              "str"
            ]
          },
          "execution_count": 9,
          "metadata": {},
          "output_type": "execute_result"
        }
      ],
      "source": [
        "type('3.2')"
      ]
    },
    {
      "cell_type": "code",
      "execution_count": null,
      "metadata": {
        "id": "Hv6XzeW-yyuz",
        "outputId": "eb1b3cca-6c95-4fc3-e185-e7ad8214381c"
      },
      "outputs": [
        {
          "name": "stdout",
          "output_type": "stream",
          "text": [
            "(1, 0, 0)\n"
          ]
        }
      ],
      "source": [
        "# When you type large integers, you might be tempted to use commas.\n",
        "# type your code here\n",
        "a = 1,00,00\n",
        "print(a)\n",
        "#This code wont give any erros, but it doesnt produce the right output too.\n",
        "# This is the 1st example we have seen of a semantic error."
      ]
    },
    {
      "cell_type": "raw",
      "metadata": {
        "id": "Jc_Ukyfayyu0"
      },
      "source": [
        "Variable names\n",
        "Give meaningful names.\n",
        "Contain both letters and numbers.\n",
        "Underscore can appear in a name.\n",
        "\n",
        "76abc  Syntax error\n",
        "more@=1000   Syntax error\n",
        "\n",
        "Keywords cannot be variable names"
      ]
    },
    {
      "cell_type": "markdown",
      "metadata": {
        "id": "6qAcsJxFyyu0"
      },
      "source": [
        "String\n",
        "--\n",
        "The string can be defined as the sequence of characters represented in the quotation marks. In python, we can use single or double quotes to define a string.\n",
        "\n",
        "The operator * is known as repetition operator as the operation \"Python \" *2 returns \"Python Python \""
      ]
    },
    {
      "cell_type": "code",
      "execution_count": null,
      "metadata": {
        "id": "DFgcgGBqyyu0",
        "outputId": "0c3d4d82-7c74-4f90-dbae-458f34f3a7c6"
      },
      "outputs": [
        {
          "name": "stdout",
          "output_type": "stream",
          "text": [
            "hello Python how are you\n",
            "hello Pythonhello Pythonhello Python\n"
          ]
        }
      ],
      "source": [
        "str1 = 'hello Python' # string str1  \n",
        "str2 = ' how are you' # string str2  \n",
        "# type your code here\n",
        "z = str1+str2\n",
        "print(z)\n",
        "print(str1*3)"
      ]
    },
    {
      "cell_type": "code",
      "execution_count": null,
      "metadata": {
        "id": "ycKWlCR2yyu0",
        "outputId": "eba44afc-f58b-40cd-97aa-345bb1b0b4db"
      },
      "outputs": [
        {
          "name": "stdout",
          "output_type": "stream",
          "text": [
            "Darshan\n",
            "D\n",
            "a\n",
            "n\n",
            "D\n",
            "arsh\n",
            "Dar\n",
            "shan\n",
            "Darsha\n",
            "arsh\n",
            "r h\n",
            "Darshan\n",
            "nahsraD\n"
          ]
        }
      ],
      "source": [
        "s = \"Darshan\"\n",
        "print(s)\n",
        "print(s[0])\n",
        "print(s[5])\n",
        "# print(s[7]) # gives error\n",
        "print(s[-1])\n",
        "print(s[-7])\n",
        "print(s[1 : 5]) # start_index to (end_index-1)\n",
        "print(s[0:3]) # 0 to (3-1)\n",
        "print(s[3:])\n",
        "print(s[:6]) # 0 to (6-1)\n",
        "print(s[-6:-2]) # SI=-6 and (EI-1)=(-2-1)\n",
        "print(s[2],s[4])\n",
        "print(s)\n",
        "print(s[::-1]) # Print the string in reverse"
      ]
    },
    {
      "cell_type": "markdown",
      "metadata": {
        "id": "O8p4DzSSyyu0"
      },
      "source": [
        "Python Keywords\n",
        "--\n",
        "Python Keywords are special reserved words which convey a special meaning to the compiler/interpreter. Each keyword have a special meaning and a specific operation. These keywords can't be used as variable. \n",
        "\n",
        "Following is the List of Python Keywords.\n",
        "\n",
        "True\n",
        "\n",
        "False\n",
        "\n",
        "None\n",
        "\n",
        "and\n",
        "\n",
        "as\n",
        "\n",
        "asset\n",
        "\n",
        "def\n",
        "\n",
        "class\n",
        "\n",
        "continue\n",
        "\n",
        "break\n",
        "\n",
        "else\n",
        "\n",
        "finally\n",
        "\n",
        "elif\n",
        "\n",
        "del\n",
        "\n",
        "except\n",
        "\n",
        "global\n",
        "\n",
        "for\n",
        "\n",
        "if\n",
        "\n",
        "from\n",
        "\n",
        "import\n",
        "\n",
        "raise\n",
        "\n",
        "try\n",
        "\n",
        "or\n",
        "\n",
        "return\n",
        "\n",
        "pass\n",
        "\n",
        "nonlocal\n",
        "\n",
        "in\n",
        "\n",
        "not\n",
        "\n",
        "is\n",
        "\n",
        "lambda"
      ]
    },
    {
      "cell_type": "markdown",
      "metadata": {
        "id": "630DA3iZyyu1"
      },
      "source": [
        "Order of Operations:\n",
        "--\n",
        "PEMDAS"
      ]
    },
    {
      "cell_type": "raw",
      "metadata": {
        "id": "29G9HYxlyyu1"
      },
      "source": [
        "Comments:\n",
        "\n",
        "\n",
        "# for single line comments\n",
        "\n",
        "\"\"\"This is\n",
        "   for multi-line\n",
        "   comments\"\"\""
      ]
    },
    {
      "cell_type": "raw",
      "metadata": {
        "id": "jqgCzTwlyyu1"
      },
      "source": [
        "2+3-1\n",
        "=(2+3)-1\n",
        "=4\n",
        "\n",
        "1+1**5-2\n",
        "=1+(1**5)-2\n",
        "=1+1-2\n",
        "=0\n",
        "\n",
        "2*3/2\n",
        "=(2*3)/2\n",
        "3"
      ]
    },
    {
      "cell_type": "code",
      "execution_count": null,
      "metadata": {
        "id": "uU0G7KYoyyu1",
        "outputId": "ba3800f2-5adb-4219-da6a-68c86c41cee5"
      },
      "outputs": [
        {
          "name": "stdout",
          "output_type": "stream",
          "text": [
            "4\n",
            "1\n",
            "2\n",
            "3.5\n",
            "3.725290298461914e-09\n"
          ]
        }
      ],
      "source": [
        "print(2+3-1)\n",
        "print(1+1**5-1)\n",
        "print(1+1**(5-2))\n",
        "print(2+3/2)\n",
        "print(2**(3+5-(1+3)*9))"
      ]
    },
    {
      "cell_type": "raw",
      "metadata": {
        "id": "CsTjNSqoyyu1"
      },
      "source": [
        "You cannot perform Mathematical operations on strings.\n",
        "'1'-'2'\n",
        "'eggs'/'hen'\n",
        "'3'*'Tom&Jerry'"
      ]
    },
    {
      "cell_type": "raw",
      "metadata": {
        "id": "0Ym3L2mByyu1"
      },
      "source": [
        "With Strings,\n",
        "+ is concatenation\n",
        "* is repetition"
      ]
    },
    {
      "cell_type": "code",
      "execution_count": null,
      "metadata": {
        "id": "H5v6WO04yyu2",
        "outputId": "2f49e881-c327-4abd-c709-0b1749e1e4e6"
      },
      "outputs": [
        {
          "data": {
            "text/plain": [
              "'sdsasdsasdsa'"
            ]
          },
          "execution_count": 18,
          "metadata": {},
          "output_type": "execute_result"
        }
      ],
      "source": [
        "\"sdsa\"*3"
      ]
    },
    {
      "cell_type": "markdown",
      "metadata": {
        "id": "S0CAlsQayyu2"
      },
      "source": [
        "End of this Module\n",
        "--"
      ]
    },
    {
      "cell_type": "code",
      "source": [
        "target_role = \"Data Scientist\""
      ],
      "metadata": {
        "id": "I20fZU021Q78"
      },
      "execution_count": 19,
      "outputs": []
    },
    {
      "cell_type": "code",
      "source": [
        "my_aim = \"I want to become a \" \n",
        "z= my_aim +  target_role\n",
        "print(z)"
      ],
      "metadata": {
        "colab": {
          "base_uri": "https://localhost:8080/"
        },
        "id": "VQdmXPGD2DpF",
        "outputId": "ca7b1b12-7e8a-4cb0-9761-b0699c91b9dd"
      },
      "execution_count": 20,
      "outputs": [
        {
          "output_type": "stream",
          "name": "stdout",
          "text": [
            "I want to become a Data Scientist\n"
          ]
        }
      ]
    },
    {
      "cell_type": "code",
      "source": [
        "z.find(\"want to\")"
      ],
      "metadata": {
        "colab": {
          "base_uri": "https://localhost:8080/"
        },
        "id": "XZnLQgWO4qTd",
        "outputId": "04d6e9a1-e802-4845-c79d-1d59063b581e"
      },
      "execution_count": 21,
      "outputs": [
        {
          "output_type": "execute_result",
          "data": {
            "text/plain": [
              "2"
            ]
          },
          "metadata": {},
          "execution_count": 21
        }
      ]
    },
    {
      "cell_type": "code",
      "source": [
        "z.replace(\"want to\",\"will\")"
      ],
      "metadata": {
        "id": "xM1aw0I24_wM"
      },
      "execution_count": null,
      "outputs": []
    },
    {
      "cell_type": "code",
      "source": [
        ""
      ],
      "metadata": {
        "id": "wwi10uF_UwvT"
      },
      "execution_count": null,
      "outputs": []
    },
    {
      "cell_type": "code",
      "source": [
        "a=2"
      ],
      "metadata": {
        "id": "DsiSQaWA2H5t"
      },
      "execution_count": 26,
      "outputs": []
    },
    {
      "cell_type": "code",
      "source": [
        "t = (1,0,0)"
      ],
      "metadata": {
        "id": "pGf4ENWRTri5"
      },
      "execution_count": 27,
      "outputs": []
    },
    {
      "cell_type": "code",
      "source": [
        "t[2]"
      ],
      "metadata": {
        "colab": {
          "base_uri": "https://localhost:8080/"
        },
        "id": "z43YrgkWTwAj",
        "outputId": "be4f54f1-4519-4dd1-942c-07624d199f5e"
      },
      "execution_count": 29,
      "outputs": [
        {
          "output_type": "execute_result",
          "data": {
            "text/plain": [
              "0"
            ]
          },
          "metadata": {},
          "execution_count": 29
        }
      ]
    },
    {
      "cell_type": "code",
      "source": [
        "p=\"'Hello World'\""
      ],
      "metadata": {
        "id": "StTlIA-rUuUY"
      },
      "execution_count": 33,
      "outputs": []
    },
    {
      "cell_type": "code",
      "source": [
        "p"
      ],
      "metadata": {
        "colab": {
          "base_uri": "https://localhost:8080/",
          "height": 36
        },
        "id": "ctzSEfGjWEKg",
        "outputId": "52fae242-2b93-455a-f916-69d41ba2ace1"
      },
      "execution_count": 34,
      "outputs": [
        {
          "output_type": "execute_result",
          "data": {
            "text/plain": [
              "\"'Hello World'\""
            ],
            "application/vnd.google.colaboratory.intrinsic+json": {
              "type": "string"
            }
          },
          "metadata": {},
          "execution_count": 34
        }
      ]
    },
    {
      "cell_type": "code",
      "source": [
        ""
      ],
      "metadata": {
        "id": "oQO5UiuVWECo"
      },
      "execution_count": null,
      "outputs": []
    },
    {
      "cell_type": "code",
      "source": [
        "p[0]"
      ],
      "metadata": {
        "colab": {
          "base_uri": "https://localhost:8080/",
          "height": 36
        },
        "id": "KHkbooobUu4K",
        "outputId": "0b525acb-4f61-416e-f446-52a70af5e010"
      },
      "execution_count": 32,
      "outputs": [
        {
          "output_type": "execute_result",
          "data": {
            "text/plain": [
              "'H'"
            ],
            "application/vnd.google.colaboratory.intrinsic+json": {
              "type": "string"
            }
          },
          "metadata": {},
          "execution_count": 32
        }
      ]
    }
  ],
  "metadata": {
    "kernelspec": {
      "display_name": "Python 3",
      "language": "python",
      "name": "python3"
    },
    "language_info": {
      "codemirror_mode": {
        "name": "ipython",
        "version": 3
      },
      "file_extension": ".py",
      "mimetype": "text/x-python",
      "name": "python",
      "nbconvert_exporter": "python",
      "pygments_lexer": "ipython3",
      "version": "3.8.3"
    },
    "toc": {
      "base_numbering": 1,
      "nav_menu": {},
      "number_sections": true,
      "sideBar": true,
      "skip_h1_title": false,
      "title_cell": "Table of Contents",
      "title_sidebar": "Contents",
      "toc_cell": false,
      "toc_position": {},
      "toc_section_display": true,
      "toc_window_display": false
    },
    "colab": {
      "name": "1 Python Basics.ipynb",
      "provenance": [],
      "include_colab_link": true
    }
  },
  "nbformat": 4,
  "nbformat_minor": 0
}