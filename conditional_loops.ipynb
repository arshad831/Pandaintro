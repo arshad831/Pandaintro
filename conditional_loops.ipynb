{
  "cells": [
    {
      "cell_type": "markdown",
      "metadata": {
        "id": "view-in-github",
        "colab_type": "text"
      },
      "source": [
        "<a href=\"https://colab.research.google.com/github/arshad831/Pandaintro/blob/main/conditional_loops.ipynb\" target=\"_parent\"><img src=\"https://colab.research.google.com/assets/colab-badge.svg\" alt=\"Open In Colab\"/></a>"
      ]
    },
    {
      "cell_type": "markdown",
      "metadata": {
        "id": "KAGx96E1oGxZ"
      },
      "source": [
        "Conditional Loop:\n",
        "--\n",
        "\n",
        ">for\n",
        "\n",
        "> while"
      ]
    },
    {
      "cell_type": "code",
      "source": [
        "state = \"Dubai\""
      ],
      "metadata": {
        "id": "jT9JekFSo-F2"
      },
      "execution_count": null,
      "outputs": []
    },
    {
      "cell_type": "code",
      "source": [
        "if state == \"Texas\":\n",
        "  print (\"TX\")\n",
        "elif state == \"Delhi\":\n",
        "    print(\"India\")  \n",
        "elif state == \"Dubai\":\n",
        "    print(\"Arab\")     \n",
        "elif state == \"South Africa\":\n",
        "    print(\"Africa\")    \n",
        "else:\n",
        "    print ('Inferior State')"
      ],
      "metadata": {
        "colab": {
          "base_uri": "https://localhost:8080/"
        },
        "id": "o7sQhlA_pEhw",
        "outputId": "f56f9a87-3bdc-4617-96ab-708ccfd1f649"
      },
      "execution_count": null,
      "outputs": [
        {
          "output_type": "stream",
          "name": "stdout",
          "text": [
            "Arab\n"
          ]
        }
      ]
    },
    {
      "cell_type": "code",
      "source": [
        "#loops\n",
        "for mynum in [1,2,3,4,5]:\n",
        "    print (\"Hello\", mynum)\n"
      ],
      "metadata": {
        "colab": {
          "base_uri": "https://localhost:8080/"
        },
        "id": "HXzU5zlppajh",
        "outputId": "72121118-b7bf-4905-937b-1f2082fbcab1"
      },
      "execution_count": null,
      "outputs": [
        {
          "output_type": "stream",
          "name": "stdout",
          "text": [
            "Hello 1\n",
            "Hello 2\n",
            "Hello 3\n",
            "Hello 4\n",
            "Hello 5\n"
          ]
        }
      ]
    },
    {
      "cell_type": "code",
      "source": [
        ""
      ],
      "metadata": {
        "id": "Eg28Q-KXsLlQ"
      },
      "execution_count": null,
      "outputs": []
    },
    {
      "cell_type": "code",
      "source": [
        "input_list=[['Tshirt',500],['watch',900],['Hat',400]]\n",
        "price_lookup=dict(input_list)\n",
        "price_lookup.keys()\n",
        "#price_lookup.values()\n",
        "for product in price_lookup.keys():\n",
        "    print (product)"
      ],
      "metadata": {
        "colab": {
          "base_uri": "https://localhost:8080/"
        },
        "outputId": "9d008d7f-6019-4db8-dc35-22e1bf114d65",
        "id": "o0NYRyYAsOB7"
      },
      "execution_count": null,
      "outputs": [
        {
          "output_type": "stream",
          "name": "stdout",
          "text": [
            "Tshirt\n",
            "watch\n",
            "Hat\n"
          ]
        }
      ]
    },
    {
      "cell_type": "code",
      "source": [
        "for product in price_lookup.keys():\n",
        "    print ( price_lookup[product])"
      ],
      "metadata": {
        "colab": {
          "base_uri": "https://localhost:8080/"
        },
        "id": "4fA-kDpJs-KL",
        "outputId": "39af099c-efa8-4cb9-e119-91e3a5df0091"
      },
      "execution_count": null,
      "outputs": [
        {
          "output_type": "stream",
          "name": "stdout",
          "text": [
            "500\n",
            "900\n",
            "400\n"
          ]
        }
      ]
    },
    {
      "cell_type": "code",
      "source": [
        "count=0\n",
        "while count < 5:\n",
        "   print ('The count is:', count)\n",
        "   count += 1"
      ],
      "metadata": {
        "colab": {
          "base_uri": "https://localhost:8080/"
        },
        "id": "ViEt68brtscw",
        "outputId": "c39ba187-5802-4c35-fcb9-0115ab23b5dc"
      },
      "execution_count": null,
      "outputs": [
        {
          "output_type": "stream",
          "name": "stdout",
          "text": [
            "The count is: 0\n",
            "The count is: 1\n",
            "The count is: 2\n",
            "The count is: 3\n",
            "The count is: 4\n"
          ]
        }
      ]
    },
    {
      "cell_type": "code",
      "source": [
        "i = 1\n",
        "while i < 6:\n",
        "  print(i)\n",
        "  i += 1"
      ],
      "metadata": {
        "id": "BXlKkOVEuhAC"
      },
      "execution_count": null,
      "outputs": []
    }
  ],
  "metadata": {
    "kernelspec": {
      "display_name": "Python 3",
      "language": "python",
      "name": "python3"
    },
    "language_info": {
      "codemirror_mode": {
        "name": "ipython",
        "version": 3
      },
      "file_extension": ".py",
      "mimetype": "text/x-python",
      "name": "python",
      "nbconvert_exporter": "python",
      "pygments_lexer": "ipython3",
      "version": "3.8.3"
    },
    "toc": {
      "base_numbering": 1,
      "nav_menu": {},
      "number_sections": true,
      "sideBar": true,
      "skip_h1_title": false,
      "title_cell": "Table of Contents",
      "title_sidebar": "Contents",
      "toc_cell": false,
      "toc_position": {},
      "toc_section_display": true,
      "toc_window_display": false
    },
    "colab": {
      "name": "conditional loops.ipynb",
      "provenance": [],
      "include_colab_link": true
    }
  },
  "nbformat": 4,
  "nbformat_minor": 0
}